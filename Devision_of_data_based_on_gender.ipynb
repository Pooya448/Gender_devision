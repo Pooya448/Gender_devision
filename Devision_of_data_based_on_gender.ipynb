{
 "cells": [
  {
   "cell_type": "markdown",
   "metadata": {},
   "source": [
    "# Devision of data based on gender"
   ]
  },
  {
   "cell_type": "markdown",
   "metadata": {},
   "source": [
    "### Importing packages"
   ]
  },
  {
   "cell_type": "code",
   "execution_count": 1,
   "metadata": {},
   "outputs": [],
   "source": [
    "import pandas as pd\n",
    "import numpy as np\n",
    "import matplotlib.pyplot as plt"
   ]
  },
  {
   "cell_type": "markdown",
   "metadata": {},
   "source": [
    "### Visualizing Data"
   ]
  },
  {
   "cell_type": "code",
   "execution_count": 14,
   "metadata": {},
   "outputs": [],
   "source": [
    "# Making numpy arrays out of CSV file\n",
    "\n",
    "file = pd.read_csv(\"01_heights_weights_genders.csv\")\n",
    "file = file.sample(frac=1)\n",
    "data = np.array(file.values)\n",
    "\n",
    "Y_train = ((data[:,0] == 'Male') * 1).reshape(1,10000)\n",
    "X_train = data[:,1:].T.astype('float64')"
   ]
  },
  {
   "cell_type": "code",
   "execution_count": 15,
   "metadata": {},
   "outputs": [
    {
     "data": {
      "text/plain": [
       "<matplotlib.legend.Legend at 0x11bdae950>"
      ]
     },
     "execution_count": 15,
     "metadata": {},
     "output_type": "execute_result"
    },
    {
     "data": {
      "image/png": "[encoded data removed]",
      "text/plain": [
       "<Figure size 432x288 with 1 Axes>"
      ]
     },
     "metadata": {
      "needs_background": "light"
     },
     "output_type": "display_data"
    }
   ],
   "source": [
    "# Plotting raw data before fitting.\n",
    "\n",
    "\n",
    "\n",
    "fig, ax = plt.subplots()\n",
    "female = file[file['Gender'] == \"Female\"]\n",
    "male = file[file['Gender'] == \"Male\"]\n",
    "\n",
    "ax.scatter(male[\"Height\"], male[\"Weight\"],\n",
    "           c='blue', alpha=1,\n",
    "           s=2, label=\"Male\")\n",
    "\n",
    "ax.scatter(female[\"Height\"], female[\"Weight\"],\n",
    "           c='pink', alpha=1,\n",
    "           s=2, label=\"Female\")\n",
    "ax.grid(color='gray', alpha=1)\n",
    "ax.set_axisbelow(True)\n",
    "plt.xlim(48, 87)\n",
    "plt.title(\"Raw Data\")\n",
    "plt.xlabel(\"Height\")\n",
    "plt.ylabel(\"Weight\")\n",
    "ax.legend(loc=2)"
   ]
  },
  {
   "cell_type": "markdown",
   "metadata": {},
   "source": [
    "### Implementing Model block by block\n",
    "    - Some functions like initialize and optimize will be same from the first question, So I didn't implement \n",
    "    them again\n",
    "\n",
    "1. activation function"
   ]
  },
  {
   "cell_type": "code",
   "execution_count": 16,
   "metadata": {},
   "outputs": [],
   "source": [
    "def initialize_with_zeros(dim):\n",
    "\n",
    "    w = np.zeros(shape=(dim, 1))\n",
    "    b = 0\n",
    "\n",
    "    return w, b"
   ]
  },
  {
   "cell_type": "code",
   "execution_count": 17,
   "metadata": {},
   "outputs": [],
   "source": [
    "def activation(z):\n",
    "    \n",
    "    s = (z > 0.5) * 1\n",
    "    \n",
    "    return s"
   ]
  },
  {
   "cell_type": "markdown",
   "metadata": {},
   "source": [
    "2. Predict function which uses activation function and makes a prediction."
   ]
  },
  {
   "cell_type": "code",
   "execution_count": 18,
   "metadata": {},
   "outputs": [],
   "source": [
    "def predict(w, b, X):\n",
    "\n",
    "    m = X.shape[1]\n",
    "    Y_prediction = np.zeros((1,m))\n",
    "    w = w.reshape(X.shape[0], 1)\n",
    "\n",
    "    A = activation(np.dot(w.T, X) + b)\n",
    "\n",
    "    Y_prediction = (A > 0.5) * 1\n",
    "    \n",
    "    return Y_prediction"
   ]
  },
  {
   "cell_type": "markdown",
   "metadata": {},
   "source": [
    "3. Propagatte function."
   ]
  },
  {
   "cell_type": "code",
   "execution_count": 22,
   "metadata": {},
   "outputs": [],
   "source": [
    "def propagate(w, b, X, y):\n",
    "\n",
    "    m = int(X.shape[1])\n",
    "    A = activation(np.dot(w.T,X) + b)\n",
    "    cost = (1 / m) * np.sum(np.square(y - A))   \n",
    "    \n",
    "    dw = ( -2 / m) * np.dot(X,(y - A).T)\n",
    "    db = ( -2 / m) * np.sum(y - A)\n",
    "\n",
    "    grads = {\"dw\": dw,\n",
    "             \"db\": db}\n",
    "    \n",
    "    return grads, cost"
   ]
  },
  {
   "cell_type": "markdown",
   "metadata": {},
   "source": [
    "### Implementing the whole model by putting all the blocks together"
   ]
  },
  {
   "cell_type": "code",
   "execution_count": 23,
   "metadata": {},
   "outputs": [],
   "source": [
    "def model(X_train, Y_train, iterations, alpha):\n",
    "\n",
    "    w, b = initialize_with_zeros(X_train.shape[0])\n",
    "    \n",
    "\n",
    "    parameters, grads, costs = optimize(w, b, X_train, Y_train, iterations, alpha)\n",
    "    \n",
    "    w = parameters[\"w\"]\n",
    "    b = parameters[\"b\"]\n",
    "    \n",
    "    Y_prediction_train = predict(w, b, X_train)\n",
    "    print(\"train accuracy: {} %\".format(100 - np.mean(np.abs(Y_prediction_train - Y_train)) * 100))\n",
    "\n",
    "    d = {\"costs\": costs, \n",
    "         \"Y_prediction_train\" : Y_prediction_train, \n",
    "         \"w\" : w, \n",
    "         \"b\" : b,\n",
    "         \"learning_rate\" : alpha,\n",
    "         \"num_iterations\": iterations}\n",
    "    \n",
    "    return d"
   ]
  },
  {
   "cell_type": "code",
   "execution_count": 25,
   "metadata": {},
   "outputs": [],
   "source": [
    "def optimize(w, b, X, y, iterations, alpha):\n",
    "    \n",
    "    costs = []\n",
    "    \n",
    "    for i in range(iterations):\n",
    "        \n",
    "        grads, cost = propagate(w, b, X, y)\n",
    "        \n",
    "        dw = grads[\"dw\"]\n",
    "        db = grads[\"db\"]\n",
    "        \n",
    "\n",
    "        w = w - alpha * dw\n",
    "        b = b - alpha * db\n",
    "\n",
    "        if i % 100 == 0:\n",
    "            costs.append(cost)\n",
    "        \n",
    "        if i % 100 == 0:\n",
    "            print (\"Cost after iteration %i: %f\" %(i, cost))\n",
    "    \n",
    "    params = {\"w\": w,\n",
    "              \"b\": b}\n",
    "    \n",
    "    grads = {\"dw\": dw,\n",
    "             \"db\": db}\n",
    "    \n",
    "    return params, grads, costs"
   ]
  },
  {
   "cell_type": "markdown",
   "metadata": {},
   "source": [
    "### Feeding the data to model"
   ]
  },
  {
   "cell_type": "code",
   "execution_count": 26,
   "metadata": {},
   "outputs": [
    {
     "name": "stdout",
     "output_type": "stream",
     "text": [
      "Cost after iteration 0: 0.500000\n",
      "Cost after iteration 100: 0.257000\n",
      "Cost after iteration 200: 0.314800\n",
      "Cost after iteration 300: 0.082000\n",
      "Cost after iteration 400: 0.082200\n",
      "Cost after iteration 500: 0.082200\n",
      "Cost after iteration 600: 0.082500\n",
      "Cost after iteration 700: 0.082200\n",
      "Cost after iteration 800: 0.082100\n",
      "Cost after iteration 900: 0.082100\n",
      "train accuracy: 91.77 %\n"
     ]
    }
   ],
   "source": [
    "d = model(X_train, Y_train, iterations = 1000, alpha = 0.1)"
   ]
  },
  {
   "cell_type": "markdown",
   "metadata": {},
   "source": [
    "### Plotting the result"
   ]
  },
  {
   "cell_type": "code",
   "execution_count": 27,
   "metadata": {},
   "outputs": [
    {
     "data": {
      "image/png": "[encoded data removed]",
      "text/plain": [
       "<Figure size 432x288 with 1 Axes>"
      ]
     },
     "metadata": {
      "needs_background": "light"
     },
     "output_type": "display_data"
    }
   ],
   "source": [
    "# Plotting the learning curve\n",
    "\n",
    "costs = np.squeeze(d['costs'])\n",
    "plt.plot(costs)\n",
    "plt.ylabel('cost')\n",
    "plt.xlabel('iterations (per hundreds)')\n",
    "plt.title(\"Learning rate = \" + str(d[\"learning_rate\"]))\n",
    "plt.show()"
   ]
  },
  {
   "cell_type": "code",
   "execution_count": 28,
   "metadata": {
    "scrolled": true
   },
   "outputs": [
    {
     "data": {
      "image/png": "[encoded data removed]",
      "text/plain": [
       "<Figure size 432x288 with 1 Axes>"
      ]
     },
     "metadata": {
      "needs_background": "light"
     },
     "output_type": "display_data"
    }
   ],
   "source": [
    "# Plotting the data with decision boundary\n",
    "\n",
    "fig, ax = plt.subplots()\n",
    "female = file[file['Gender'] == \"Female\"]\n",
    "male = file[file['Gender'] == \"Male\"]\n",
    "\n",
    "ax.scatter(male[\"Height\"], male[\"Weight\"],\n",
    "           c='blue', alpha=1,\n",
    "           s=2, label=\"Male\")\n",
    "\n",
    "ax.scatter(female[\"Height\"], female[\"Weight\"],\n",
    "           c='pink', alpha=1,\n",
    "           s=2, label=\"Female\")\n",
    "ax.grid(color='gray', alpha=1)\n",
    "ax.set_axisbelow(True)\n",
    "plt.xlim(48, 87)\n",
    "plt.title(\"Raw Data\")\n",
    "plt.xlabel(\"Height\")\n",
    "plt.ylabel(\"Weight\")\n",
    "ax.legend(loc=2)\n",
    "\n",
    "w = d['w']\n",
    "b = d['b']\n",
    "x_points = np.linspace(50, 85, 35)\n",
    "y_ = -(w[0] * x_points + b) / w[1]\n",
    "plt.plot(x_points, y_, 'k--')\n",
    "plt.savefig(\"Q2.png\")\n",
    "plt.show()"
   ]
  },
  {
   "cell_type": "code",
   "execution_count": null,
   "metadata": {},
   "outputs": [],
   "source": []
  }
 ],
 "metadata": {
  "kernelspec": {
   "display_name": "Python 3",
   "language": "python",
   "name": "python3"
  },
  "language_info": {
   "codemirror_mode": {
    "name": "ipython",
    "version": 3
   },
   "file_extension": ".py",
   "mimetype": "text/x-python",
   "name": "python",
   "nbconvert_exporter": "python",
   "pygments_lexer": "ipython3",
   "version": "3.7.6"
  }
 },
 "nbformat": 4,
 "nbformat_minor": 4
}
